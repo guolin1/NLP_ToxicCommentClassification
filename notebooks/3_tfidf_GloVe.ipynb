{
 "cells": [
  {
   "cell_type": "code",
   "execution_count": 8,
   "metadata": {},
   "outputs": [],
   "source": [
    "## DATA MANIPULATION\n",
    "import numpy as np, pandas as pd\n",
    "import pickle\n",
    "\n",
    "from collections import defaultdict\n",
    "\n",
    "## TF-IDF\n",
    "from sklearn.feature_extraction.text import TfidfVectorizer\n",
    "\n",
    "## CLASSIFICATION\n",
    "from sklearn.base import clone\n",
    "from sklearn.metrics import accuracy_score, precision_score, recall_score, f1_score\n",
    "from sklearn.pipeline import Pipeline\n",
    "from sklearn.svm import LinearSVC\n",
    "from sklearn.linear_model import LogisticRegression\n",
    "\n",
    "from xgboost import XGBClassifier"
   ]
  },
  {
   "cell_type": "markdown",
   "metadata": {},
   "source": [
    "### Load preprocessed data"
   ]
  },
  {
   "cell_type": "code",
   "execution_count": 9,
   "metadata": {},
   "outputs": [],
   "source": [
    "f = open('../data/preprocessed.pkl','rb')\n",
    "train, valid = pickle.load(f)\n",
    "labels = train.columns[2:]"
   ]
  },
  {
   "cell_type": "markdown",
   "metadata": {},
   "source": [
    "### TF-IDF weighted GloVe vectorizer\n",
    "- TF-IDF down-weighs frequent terms and up-weighs rare terms, which helps identify indicators for toxic comments (i.e., they're less common)"
   ]
  },
  {
   "cell_type": "code",
   "execution_count": 10,
   "metadata": {
    "tags": []
   },
   "outputs": [
    {
     "output_type": "stream",
     "name": "stdout",
     "text": "Extracted 400000 word vectors\n"
    }
   ],
   "source": [
    "## BUILD GLOVE EMBEDDINGS DICTIONARY\n",
    "embeddings_dict = dict()\n",
    "f = open(r'../data/glove.6B.300d.txt', encoding='utf8')\n",
    "for line in f:\n",
    "    values = line.split()\n",
    "    word = values[0]\n",
    "    vec = np.asarray(values[1:], dtype='float32')\n",
    "    embeddings_dict[word] = vec\n",
    "f.close()\n",
    "print('Extracted {} word vectors'.format(len(embeddings_dict)))"
   ]
  },
  {
   "cell_type": "code",
   "execution_count": 11,
   "metadata": {},
   "outputs": [],
   "source": [
    "## SKLEARN COMPATIBLE GLOVE VECTORIZER TRANSFORMER \n",
    "class tfidf_glove(object):\n",
    "    def __init__(self, embeddings_dict):\n",
    "        # Glove Embeddings Dictionary\n",
    "        self.embeddings_dict = embeddings_dict\n",
    "        # if a text is empty we should return a vector of zeros\n",
    "        # with the same dimensionality as all the other vectors\n",
    "        self.dim = len(embeddings_dict[next(iter(embeddings_dict))])\n",
    "        # Initialize TF-IDF\n",
    "        self.tfidf = TfidfVectorizer(min_df=3,\n",
    "                                    token_pattern = '\\S+', # preserve each word in preprocessed text\n",
    "                                    max_df=0.9, \n",
    "                                    strip_accents='unicode',\n",
    "                                    sublinear_tf=1)\n",
    "        # TF-IDF weights dictionary\n",
    "        self.weights_dict = None\n",
    "\n",
    "    def fit(self, X, y):\n",
    "        '''\n",
    "        fit tfidf and create weight dictionary\n",
    "        credit: github.com/nadbordrozd\n",
    "        '''\n",
    "        self.tfidf.fit(X)\n",
    "        # if a word doesn't exist, it needs to be considered as \n",
    "        # infrequent as the most infrequent known words, i.e., \n",
    "        # it should have the highest known idf value.\n",
    "        max_idf = max(self.tfidf.idf_)\n",
    "        self.weights_dict = defaultdict(\n",
    "            lambda: max_idf, \n",
    "            [(w, self.tfidf.idf_[i]) for w, i in self.tfidf.vocabulary_.items()])\n",
    "        return self\n",
    "    \n",
    "    def sentence2vec(self, s):\n",
    "        '''\n",
    "        Input:\n",
    "        Sentence string\n",
    "\n",
    "        Transformations:\n",
    "        Get vector for each word -> \n",
    "        weigh the vector by idf value ->\n",
    "        Average vectors\n",
    "\n",
    "        Output:\n",
    "        Vector for sentence\n",
    "        '''\n",
    "        words = s.split()\n",
    "        M = []\n",
    "        for w in words:\n",
    "            try:\n",
    "                M.append(self.embeddings_dict[w] * self.weights_dict[w])\n",
    "            except:\n",
    "                continue\n",
    "        M = np.array(M)\n",
    "        v = M.mean(axis=0)\n",
    "        if type(v) != np.ndarray:\n",
    "            return np.zeros(self.dim)\n",
    "        return v # / np.sqrt((v ** 2).sum())\n",
    "\n",
    "    def transform(self, X):\n",
    "        X = X.apply(self.sentence2vec)\n",
    "        return np.stack(X.values, axis=0)"
   ]
  },
  {
   "cell_type": "code",
   "execution_count": 12,
   "metadata": {},
   "outputs": [],
   "source": [
    "vec = tfidf_glove(embeddings_dict)\n",
    "X_train = vec.fit(train['comment_text'], train[labels[0]]).transform(train['comment_text'])\n",
    "X_valid = vec.transform(valid['comment_text'])"
   ]
  },
  {
   "source": [
    "### Loop through Logistic Regression, SVM, and XGBoost"
   ],
   "cell_type": "markdown",
   "metadata": {}
  },
  {
   "cell_type": "code",
   "execution_count": 13,
   "metadata": {
    "tags": []
   },
   "outputs": [
    {
     "output_type": "stream",
     "name": "stdout",
     "text": "Logistic Regression Results for toxic comments: Accuracy - 0.89; Precision - 0.46; Recall - 0.85; F1 - 0.60\nLogistic Regression Results for severe_toxic comments: Accuracy - 0.95; Precision - 0.16; Recall - 0.89; F1 - 0.27\nLogistic Regression Results for obscene comments: Accuracy - 0.92; Precision - 0.40; Recall - 0.86; F1 - 0.54\nLogistic Regression Results for threat comments: Accuracy - 0.94; Precision - 0.04; Recall - 0.82; F1 - 0.07\nLogistic Regression Results for insult comments: Accuracy - 0.91; Precision - 0.35; Recall - 0.86; F1 - 0.49\nLogistic Regression Results for identity_hate comments: Accuracy - 0.92; Precision - 0.09; Recall - 0.88; F1 - 0.17\nSVM Results for toxic comments: Accuracy - 0.93; Precision - 0.61; Recall - 0.72; F1 - 0.66\nSVM Results for severe_toxic comments: Accuracy - 0.98; Precision - 0.33; Recall - 0.56; F1 - 0.41\nSVM Results for obscene comments: Accuracy - 0.95; Precision - 0.52; Recall - 0.77; F1 - 0.62\nSVM Results for threat comments: Accuracy - 0.99; Precision - 0.22; Recall - 0.32; F1 - 0.26\nSVM Results for insult comments: Accuracy - 0.94; Precision - 0.47; Recall - 0.75; F1 - 0.58\nSVM Results for identity_hate comments: Accuracy - 0.98; Precision - 0.24; Recall - 0.42; F1 - 0.31\nXGBoost Results for toxic comments: Accuracy - 0.94; Precision - 0.65; Recall - 0.73; F1 - 0.69\nXGBoost Results for severe_toxic comments: Accuracy - 0.99; Precision - 0.41; Recall - 0.39; F1 - 0.40\nXGBoost Results for obscene comments: Accuracy - 0.97; Precision - 0.72; Recall - 0.71; F1 - 0.72\nXGBoost Results for threat comments: Accuracy - 1.00; Precision - 0.59; Recall - 0.27; F1 - 0.37\nXGBoost Results for insult comments: Accuracy - 0.96; Precision - 0.61; Recall - 0.68; F1 - 0.64\nXGBoost Results for identity_hate comments: Accuracy - 0.99; Precision - 0.53; Recall - 0.33; F1 - 0.41\n"
    }
   ],
   "source": [
    "## CREATE RESULTS TABLE\n",
    "results = pd.DataFrame(columns=['Label','Accuracy', 'Recall', 'Precision', 'F1', 'Vectorizer', 'model'])\n",
    "\n",
    "## CREATE MODELS\n",
    "models = {\n",
    "    'Logistic Regression': LogisticRegression(solver='saga',class_weight='balanced'),\n",
    "    'SVM': LinearSVC(class_weight='balanced'),\n",
    "    'XGBoost': ['see below']}\n",
    "                      \n",
    "## LOOP THROUGH MODELS\n",
    "for m_label, model in models.items():\n",
    "    for label in labels:\n",
    "        # clone base model (re-initialize weights)\n",
    "        if m_label == 'XGBoost':\n",
    "            model = XGBClassifier(n_estimators=100,\n",
    "                        scale_pos_weight= sum(train[label]==0) / sum(train[label]==1),\n",
    "                        n_jobs=-1)\n",
    "        \n",
    "        m = clone(model) \n",
    "\n",
    "        # Fit model\n",
    "        m.fit(X_train, train[label])\n",
    "        \n",
    "        # Get predictions\n",
    "        preds = m.predict(X_valid)\n",
    "\n",
    "        # Evaluate predictions\n",
    "        acc, prec, recall, f1 = (accuracy_score(valid[label], preds), \n",
    "                                precision_score(valid[label], preds), \n",
    "                                recall_score(valid[label], preds), \n",
    "                                f1_score(valid[label], preds))\n",
    "        \n",
    "        # Save results to dataframe\n",
    "        results = results.append({'Label': label,\n",
    "                                'Accuracy':acc,\n",
    "                                'Recall':recall,\n",
    "                                'Precision':prec,\n",
    "                                'F1':f1,\n",
    "                                'Vectorizer':'tfidf_glove',\n",
    "                                'model': m_label}, \n",
    "                                ignore_index = True)\n",
    "        \n",
    "        # print results\n",
    "        print('{0} Results for {1} comments: Accuracy - {2:.2f}; Precision - {3:.2f}; Recall - {4:.2f}; F1 - {5:.2f}'.format(\n",
    "                                        m_label,\n",
    "                                        label, \n",
    "                                        acc, \n",
    "                                        prec, \n",
    "                                        recall,\n",
    "                                        f1))"
   ]
  },
  {
   "cell_type": "code",
   "execution_count": 14,
   "metadata": {},
   "outputs": [],
   "source": [
    "## SAVE RESULTS\n",
    "results.to_csv('../artifacts/tfidf_glove.csv', index=False)"
   ]
  },
  {
   "cell_type": "code",
   "execution_count": null,
   "metadata": {},
   "outputs": [],
   "source": []
  }
 ],
 "metadata": {
  "kernelspec": {
   "display_name": "Python 3",
   "language": "python",
   "name": "python3"
  },
  "language_info": {
   "codemirror_mode": {
    "name": "ipython",
    "version": 3
   },
   "file_extension": ".py",
   "mimetype": "text/x-python",
   "name": "python",
   "nbconvert_exporter": "python",
   "pygments_lexer": "ipython3",
   "version": "3.7.6-final"
  }
 },
 "nbformat": 4,
 "nbformat_minor": 4
}