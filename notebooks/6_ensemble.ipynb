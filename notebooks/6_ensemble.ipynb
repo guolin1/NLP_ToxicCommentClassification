{
 "metadata": {
  "language_info": {
   "codemirror_mode": {
    "name": "ipython",
    "version": 3
   },
   "file_extension": ".py",
   "mimetype": "text/x-python",
   "name": "python",
   "nbconvert_exporter": "python",
   "pygments_lexer": "ipython3",
   "version": "3.7.6-final"
  },
  "orig_nbformat": 2,
  "kernelspec": {
   "name": "python_defaultSpec_1600300255867",
   "display_name": "Python 3.7.6 64-bit ('base': conda)"
  }
 },
 "nbformat": 4,
 "nbformat_minor": 2,
 "cells": [
  {
   "cell_type": "code",
   "execution_count": 1,
   "metadata": {},
   "outputs": [],
   "source": [
    "import pandas as pd, numpy as np \n",
    "import pickle"
   ]
  },
  {
   "cell_type": "code",
   "execution_count": 2,
   "metadata": {},
   "outputs": [],
   "source": [
    "# Load train & valid splits\n",
    "f = open('../data/preprocessed.pkl','rb')\n",
    "train, valid = pickle.load(f)\n",
    "labels = train.columns[2:]\n",
    "y_valid = valid[labels]\n",
    "y_valid = y_valid.values"
   ]
  },
  {
   "cell_type": "code",
   "execution_count": 3,
   "metadata": {},
   "outputs": [],
   "source": [
    "## Load SVM, XGBoost, and GRU results\n",
    "r1 = pd.read_csv('../artifacts/preds/glove_preds.csv')\n",
    "GRU = pd.read_csv('../artifacts/preds/glove_gru_preds.csv')\n",
    "SVM = r1['SVM_'+labels]\n",
    "XGB = r1['XGBoost_'+labels]"
   ]
  },
  {
   "cell_type": "code",
   "execution_count": 4,
   "metadata": {},
   "outputs": [],
   "source": [
    "## Ensemble and get preds\n",
    "preds = (GRU.values + SVM.values + XGB.values)/3\n",
    "preds[preds<=0.5] = 0\n",
    "preds[preds>0.5] = 1"
   ]
  },
  {
   "cell_type": "code",
   "execution_count": 7,
   "metadata": {
    "tags": []
   },
   "outputs": [
    {
     "output_type": "stream",
     "name": "stdout",
     "text": "Results for toxic comments: Accuracy - 0.95; Precision - 0.76; Recall - 0.78; F1 - 0.77\nResults for severe_toxic comments: Accuracy - 0.99; Precision - 0.43; Recall - 0.54; F1 - 0.48\nResults for obscene comments: Accuracy - 0.98; Precision - 0.80; Recall - 0.79; F1 - 0.79\nResults for threat comments: Accuracy - 1.00; Precision - 0.48; Recall - 0.30; F1 - 0.37\nResults for insult comments: Accuracy - 0.97; Precision - 0.68; Recall - 0.75; F1 - 0.72\nResults for identity_hate comments: Accuracy - 0.99; Precision - 0.52; Recall - 0.47; F1 - 0.50\n"
    }
   ],
   "source": [
    "## Get results\n",
    "results = pd.DataFrame(columns=['Label','Accuracy', 'Recall', 'Precision', 'F1', 'Vectorizer', 'model'])\n",
    "\n",
    "## Print results\n",
    "from sklearn.metrics import accuracy_score, precision_score, recall_score, f1_score\n",
    "for i in range(preds.shape[1]):\n",
    "    i_preds = preds[:,i]\n",
    "    i_true = y_valid[:,i]\n",
    "    label = labels[i]\n",
    "    # Evaluate predictions\n",
    "    acc, prec, recall, f1 = (accuracy_score(i_true, i_preds), \n",
    "                            precision_score(i_true, i_preds), \n",
    "                            recall_score(i_true, i_preds), \n",
    "                            f1_score(i_true, i_preds))\n",
    "    \n",
    "    # Save results to dataframe\n",
    "    results = results.append({'Label': label,\n",
    "                            'Accuracy':acc,\n",
    "                            'Recall':recall,\n",
    "                            'Precision':prec,\n",
    "                            'F1':f1,\n",
    "                            'Vectorizer':'glove',\n",
    "                            'model': 'ensemble'}, \n",
    "                            ignore_index = True)\n",
    "    \n",
    "    # print results\n",
    "    print('Results for {0} comments: Accuracy - {1:.2f}; Precision - {2:.2f}; Recall - {3:.2f}; F1 - {4:.2f}'.format(\n",
    "                                    label, \n",
    "                                    acc, \n",
    "                                    prec, \n",
    "                                    recall,\n",
    "                                    f1))"
   ]
  },
  {
   "cell_type": "code",
   "execution_count": 8,
   "metadata": {},
   "outputs": [],
   "source": [
    "results.to_csv('../artifacts/glove_ensemble.csv')"
   ]
  },
  {
   "cell_type": "code",
   "execution_count": null,
   "metadata": {},
   "outputs": [],
   "source": []
  }
 ]
}