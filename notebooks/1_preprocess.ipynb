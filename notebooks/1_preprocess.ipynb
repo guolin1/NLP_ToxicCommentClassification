{
 "metadata": {
  "language_info": {
   "codemirror_mode": {
    "name": "ipython",
    "version": 3
   },
   "file_extension": ".py",
   "mimetype": "text/x-python",
   "name": "python",
   "nbconvert_exporter": "python",
   "pygments_lexer": "ipython3",
   "version": "3.7.6-final"
  },
  "orig_nbformat": 2,
  "kernelspec": {
   "name": "python_defaultSpec_1599782243183",
   "display_name": "Python 3.7.6 64-bit ('base': conda)"
  }
 },
 "nbformat": 4,
 "nbformat_minor": 2,
 "cells": [
  {
   "cell_type": "code",
   "execution_count": 4,
   "metadata": {},
   "outputs": [],
   "source": [
    "## DATA MANIPULATION\n",
    "import pandas as pd \n",
    "import numpy as np \n",
    "\n",
    "## STRING MANIPULATION AND NLP HELP FUNS\n",
    "import re, string\n",
    "import nltk\n",
    "\n",
    "## FILE SAVING\n",
    "import pickle\n",
    "\n",
    "## SKLEARN\n",
    "from sklearn.model_selection import train_test_split"
   ]
  },
  {
   "cell_type": "markdown",
   "metadata": {},
   "source": [
    "### Load and split"
   ]
  },
  {
   "cell_type": "code",
   "execution_count": 5,
   "metadata": {},
   "outputs": [],
   "source": [
    "data = pd.read_csv('../data/train.csv')             # load data\n",
    "labels = list(data.columns[2:])                     # get labels\n",
    "data['comment_text'].fillna(\"unknown\", inplace=True)# fill empties\n",
    "train, valid = train_test_split(data,               # split into train & test\n",
    "                                random_state=42, \n",
    "                                test_size=0.33, \n",
    "                                shuffle=True)"
   ]
  },
  {
   "cell_type": "markdown",
   "metadata": {},
   "source": [
    "### Preprocess text"
   ]
  },
  {
   "cell_type": "code",
   "execution_count": 7,
   "metadata": {},
   "outputs": [],
   "source": [
    "## SKLEARN COMPATIBLE TEXT PREPROCESSOR \n",
    "class preprocessComment(object):\n",
    "    def __init__(self):\n",
    "        # NLTK helper functions\n",
    "        self.stop_words = nltk.corpus.stopwords.words('english')\n",
    "        self.lemmatizer = nltk.stem.WordNetLemmatizer()\n",
    "        self.tokenizer = nltk.word_tokenize\n",
    "\n",
    "    def fit(self, X, y):\n",
    "        return self\n",
    "    \n",
    "    def preprocess(self, s):\n",
    "        '''\n",
    "        Input:\n",
    "        Sentence string\n",
    "\n",
    "        Transformations:\n",
    "        Lower case -> Remove stop words ->\n",
    "        Remove non-words -> Lemmatize -> \n",
    "\n",
    "        Output:\n",
    "        Preprocessed sentence string\n",
    "        '''\n",
    "        words = str(s).lower()\n",
    "        words = self.tokenizer(words)\n",
    "        words = [w for w in words if not w in self.stop_words]\n",
    "        words = [w for w in words if w.isalpha()]\n",
    "        words = [self.lemmatizer.lemmatize(w) for w in words]\n",
    "        return ' '.join(words)\n",
    "\n",
    "    def transform(self, X):\n",
    "        return X.apply(self.preprocess)"
   ]
  },
  {
   "cell_type": "code",
   "execution_count": 8,
   "metadata": {},
   "outputs": [],
   "source": [
    "## PREPROCESS DATA\n",
    "proc = preprocessComment()\n",
    "train['comment_text'] = proc.transform(train['comment_text'])\n",
    "valid['comment_text'] = proc.transform(valid['comment_text'])"
   ]
  },
  {
   "cell_type": "markdown",
   "metadata": {},
   "source": [
    "### Save preprocessed files"
   ]
  },
  {
   "cell_type": "code",
   "execution_count": 16,
   "metadata": {},
   "outputs": [],
   "source": [
    "f = open('../data/preprocessed.pkl','wb')\n",
    "pickle.dump((train,valid),f)"
   ]
  },
  {
   "cell_type": "code",
   "execution_count": null,
   "metadata": {},
   "outputs": [],
   "source": []
  }
 ]
}