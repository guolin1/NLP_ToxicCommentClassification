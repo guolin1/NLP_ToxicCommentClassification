{
 "cells": [
  {
   "cell_type": "code",
   "execution_count": 1,
   "metadata": {},
   "outputs": [],
   "source": [
    "## DATA MANIPULATION\n",
    "import numpy as np, pandas as pd\n",
    "import pickle\n",
    "\n",
    "## CLASSIFICATION\n",
    "from sklearn.base import clone\n",
    "from sklearn.metrics import accuracy_score, precision_score, recall_score, f1_score\n",
    "from sklearn.pipeline import Pipeline\n",
    "from sklearn.svm import LinearSVC\n",
    "from sklearn.linear_model import LogisticRegression\n",
    "\n",
    "from xgboost import XGBClassifier"
   ]
  },
  {
   "cell_type": "markdown",
   "metadata": {},
   "source": [
    "### LOAD DATA AND GET LABELS"
   ]
  },
  {
   "cell_type": "code",
   "execution_count": 2,
   "metadata": {},
   "outputs": [],
   "source": [
    "f = open('../data/preprocessed.pkl','rb')\n",
    "train, valid = pickle.load(f)\n",
    "labels = train.columns[2:]"
   ]
  },
  {
   "cell_type": "markdown",
   "metadata": {},
   "source": [
    "### GloVe vectorizer"
   ]
  },
  {
   "cell_type": "code",
   "execution_count": 3,
   "metadata": {
    "tags": []
   },
   "outputs": [
    {
     "name": "stdout",
     "output_type": "stream",
     "text": [
      "Extracted 400000 word vectors\n"
     ]
    }
   ],
   "source": [
    "## BUILD GLOVE EMBEDDINGS DICTIONARY\n",
    "embeddings_dict = dict()\n",
    "f = open(r'../data/glove.6B.300d.txt', encoding='utf8')\n",
    "for line in f:\n",
    "    values = line.split()\n",
    "    word = values[0]\n",
    "    vec = np.asarray(values[1:], dtype='float32')\n",
    "    embeddings_dict[word] = vec\n",
    "f.close()\n",
    "print('Extracted {} word vectors'.format(len(embeddings_dict)))"
   ]
  },
  {
   "cell_type": "code",
   "execution_count": 4,
   "metadata": {},
   "outputs": [],
   "source": [
    "## SKLEARN COMPATIBLE GLOVE VECTORIZER TRANSFORMER \n",
    "class gloveVectorizer(object):\n",
    "    def __init__(self, embeddings_dict):\n",
    "        self.embeddings_dict = embeddings_dict\n",
    "        # if a text is empty we should return a vector of zeros\n",
    "        # with the same dimensionality as all the other vectors\n",
    "        self.dim = len(embeddings_dict[next(iter(embeddings_dict))])\n",
    "\n",
    "    def fit(self, X, y):\n",
    "        return self\n",
    "    \n",
    "    def sentence2vec(self, s):\n",
    "        '''\n",
    "        Input:\n",
    "        Sentence string\n",
    "\n",
    "        Transformations:\n",
    "        Get vector for each word -> Average vectors\n",
    "\n",
    "        Output:\n",
    "        Vector for sentence\n",
    "        '''\n",
    "        words = s.split()\n",
    "        M = []\n",
    "        for w in words:\n",
    "            try:\n",
    "                M.append(self.embeddings_dict[w])\n",
    "            except:\n",
    "                continue\n",
    "        M = np.array(M)\n",
    "        v = M.mean(axis=0)\n",
    "        if type(v) != np.ndarray:\n",
    "            return np.zeros(self.dim)\n",
    "        return v # / np.sqrt((v ** 2).sum())\n",
    "\n",
    "    def transform(self, X):\n",
    "        X = X.apply(self.sentence2vec)\n",
    "        return np.stack(X.values, axis=0)"
   ]
  },
  {
   "cell_type": "code",
   "execution_count": 5,
   "metadata": {},
   "outputs": [],
   "source": [
    "glove = gloveVectorizer(embeddings_dict)\n",
    "X_train = glove.transform(train['comment_text'])\n",
    "X_valid = glove.transform(valid['comment_text'])"
   ]
  },
  {
   "cell_type": "markdown",
   "metadata": {},
   "source": [
    "### Loop through Logistic Regression, SVM, XGBoost"
   ]
  },
  {
   "cell_type": "code",
   "execution_count": 14,
   "metadata": {
    "tags": []
   },
   "outputs": [
    {
     "name": "stdout",
     "output_type": "stream",
     "text": [
      "Logistic Regression Results for toxic comments: Accuracy - 0.90; Precision - 0.48; Recall - 0.86; F1 - 0.62\n",
      "Logistic Regression Results for severe_toxic comments: Accuracy - 0.95; Precision - 0.15; Recall - 0.93; F1 - 0.25\n",
      "Logistic Regression Results for obscene comments: Accuracy - 0.93; Precision - 0.44; Recall - 0.87; F1 - 0.58\n",
      "Logistic Regression Results for threat comments: Accuracy - 0.90; Precision - 0.03; Recall - 0.94; F1 - 0.05\n",
      "Logistic Regression Results for insult comments: Accuracy - 0.92; Precision - 0.37; Recall - 0.88; F1 - 0.52\n",
      "Logistic Regression Results for identity_hate comments: Accuracy - 0.99; Precision - 0.26; Recall - 0.33; F1 - 0.29\n",
      "SVM Results for toxic comments: Accuracy - 0.90; Precision - 0.48; Recall - 0.86; F1 - 0.62\n",
      "SVM Results for severe_toxic comments: Accuracy - 0.96; Precision - 0.17; Recall - 0.90; F1 - 0.29\n",
      "SVM Results for obscene comments: Accuracy - 0.93; Precision - 0.44; Recall - 0.87; F1 - 0.58\n",
      "SVM Results for threat comments: Accuracy - 0.94; Precision - 0.04; Recall - 0.83; F1 - 0.08\n",
      "SVM Results for insult comments: Accuracy - 0.92; Precision - 0.37; Recall - 0.88; F1 - 0.52\n",
      "SVM Results for identity_hate comments: Accuracy - 0.93; Precision - 0.10; Recall - 0.89; F1 - 0.18\n",
      "XGBoost Results for toxic comments: Accuracy - 0.94; Precision - 0.65; Recall - 0.75; F1 - 0.70\n",
      "XGBoost Results for severe_toxic comments: Accuracy - 0.99; Precision - 0.43; Recall - 0.43; F1 - 0.43\n",
      "XGBoost Results for obscene comments: Accuracy - 0.97; Precision - 0.75; Recall - 0.73; F1 - 0.74\n",
      "XGBoost Results for threat comments: Accuracy - 1.00; Precision - 0.48; Recall - 0.28; F1 - 0.36\n",
      "XGBoost Results for insult comments: Accuracy - 0.96; Precision - 0.63; Recall - 0.68; F1 - 0.66\n",
      "XGBoost Results for identity_hate comments: Accuracy - 0.99; Precision - 0.52; Recall - 0.36; F1 - 0.42\n"
     ]
    }
   ],
   "source": [
    "## CREATE RESULTS TABLE\n",
    "results = pd.DataFrame(columns=['Label','Accuracy', 'Recall', 'Precision', 'F1', 'Vectorizer', 'model'])\n",
    "preds_df = pd.DataFrame()\n",
    "\n",
    "## CREATE MODELS\n",
    "models = {\n",
    "    'Logistic Regression': LogisticRegression(solver='saga',class_weight='balanced'),\n",
    "    'SVM': LogisticRegression(solver='liblinear', class_weight='balanced'),\n",
    "    'XGBoost': ['see below']}\n",
    "                      \n",
    "## LOOP THROUGH MODELS\n",
    "for m_label, model in models.items():\n",
    "    for label in labels:\n",
    "        # clone base model (re-initialize weights)\n",
    "        if m_label == 'XGBoost':\n",
    "            model = XGBClassifier(n_estimators=100,\n",
    "                        scale_pos_weight= sum(train[label]==0) / sum(train[label]==1),\n",
    "                        n_jobs=-1)\n",
    "        \n",
    "        m = clone(model) \n",
    "\n",
    "        # Fit model\n",
    "        m.fit(X_train, train[label])\n",
    "        \n",
    "        # Get predictions\n",
    "        preds = m.predict(X_valid)\n",
    "        preds_proba = m.predict_proba(X_valid)    # get class probabilities\n",
    "        preds_df[m_label+'_'+label] = preds_proba[:,1] # save to df\n",
    "\n",
    "\n",
    "        # Evaluate predictions\n",
    "        acc, prec, recall, f1 = (accuracy_score(valid[label], preds), \n",
    "                                precision_score(valid[label], preds), \n",
    "                                recall_score(valid[label], preds), \n",
    "                                f1_score(valid[label], preds))\n",
    "        \n",
    "        # Save results to dataframe\n",
    "        results = results.append({'Label': label,\n",
    "                                'Accuracy':acc,\n",
    "                                'Recall':recall,\n",
    "                                'Precision':prec,\n",
    "                                'F1':f1,\n",
    "                                'Vectorizer':'glove',\n",
    "                                'model': m_label}, \n",
    "                                ignore_index = True)\n",
    "        \n",
    "        # print results\n",
    "        print('{0} Results for {1} comments: Accuracy - {2:.2f}; Precision - {3:.2f}; Recall - {4:.2f}; F1 - {5:.2f}'.format(\n",
    "                                        m_label,\n",
    "                                        label, \n",
    "                                        acc, \n",
    "                                        prec, \n",
    "                                        recall,\n",
    "                                        f1))"
   ]
  },
  {
   "cell_type": "code",
   "execution_count": null,
   "metadata": {},
   "outputs": [],
   "source": [
    "## SAVE RESULTS\n",
    "results.to_csv('../artifacts/glove.csv', index=False)"
   ]
  },
  {
   "cell_type": "code",
   "execution_count": 16,
   "metadata": {},
   "outputs": [],
   "source": [
    "preds_df.to_csv('../artifacts/preds/glove_preds.csv', index=False)"
   ]
  },
  {
   "cell_type": "code",
   "execution_count": null,
   "metadata": {},
   "outputs": [],
   "source": []
  }
 ],
 "metadata": {
  "kernelspec": {
   "display_name": "Python 3",
   "language": "python",
   "name": "python3"
  },
  "language_info": {
   "codemirror_mode": {
    "name": "ipython",
    "version": 3
   },
   "file_extension": ".py",
   "mimetype": "text/x-python",
   "name": "python",
   "nbconvert_exporter": "python",
   "pygments_lexer": "ipython3",
   "version": "3.7.6"
  }
 },
 "nbformat": 4,
 "nbformat_minor": 4
}
