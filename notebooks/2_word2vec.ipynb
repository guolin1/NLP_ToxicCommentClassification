{
 "metadata": {
  "language_info": {
   "codemirror_mode": {
    "name": "ipython",
    "version": 3
   },
   "file_extension": ".py",
   "mimetype": "text/x-python",
   "name": "python",
   "nbconvert_exporter": "python",
   "pygments_lexer": "ipython3",
   "version": "3.7.6-final"
  },
  "orig_nbformat": 2,
  "kernelspec": {
   "name": "python_defaultSpec_1600115304204",
   "display_name": "Python 3.7.6 64-bit ('base': conda)"
  }
 },
 "nbformat": 4,
 "nbformat_minor": 2,
 "cells": [
  {
   "cell_type": "code",
   "execution_count": 1,
   "metadata": {},
   "outputs": [],
   "source": [
    "## DATA MANIPULATION\n",
    "import numpy as np, pandas as pd\n",
    "import pickle\n",
    "\n",
    "## CLASSIFICATION\n",
    "from sklearn.base import clone\n",
    "from sklearn.metrics import accuracy_score, precision_score, recall_score, f1_score\n",
    "from sklearn.pipeline import Pipeline\n",
    "from sklearn.svm import LinearSVC\n",
    "from sklearn.linear_model import LogisticRegression\n",
    "\n",
    "from xgboost import XGBClassifier"
   ]
  },
  {
   "source": [
    "### Load data & grab labels"
   ],
   "cell_type": "markdown",
   "metadata": {}
  },
  {
   "cell_type": "code",
   "execution_count": 2,
   "metadata": {},
   "outputs": [],
   "source": [
    "f = open('../data/preprocessed.pkl','rb')\n",
    "train, valid = pickle.load(f)\n",
    "labels = train.columns[2:]"
   ]
  },
  {
   "source": [
    "### Convert pretrained word2vec embeddings (binary format) to text file using gensim."
   ],
   "cell_type": "markdown",
   "metadata": {}
  },
  {
   "cell_type": "code",
   "execution_count": 3,
   "metadata": {},
   "outputs": [],
   "source": [
    "## Convert word2vec to .txt file\n",
    "# from gensim.models.keyedvectors import KeyedVectors\n",
    "# model = KeyedVectors.load_word2vec_format('../data/GoogleNews-vectors-negative300.bin', binary=True)\n",
    "# model.save_word2vec_format('../data/GoogleNews-vectors-negative300.txt', binary=False)"
   ]
  },
  {
   "source": [
    "### Extract embedding vectors from word2vec"
   ],
   "cell_type": "markdown",
   "metadata": {}
  },
  {
   "cell_type": "code",
   "execution_count": 4,
   "metadata": {
    "tags": []
   },
   "outputs": [
    {
     "output_type": "stream",
     "name": "stdout",
     "text": "Extracted 3000000 word vectors\n"
    }
   ],
   "source": [
    "## BUILD WORD2VEC EMBEDDINGS DICTIONARY\n",
    "embeddings_dict = dict()\n",
    "f = open(r'../data/GoogleNews-vectors-negative300.txt',encoding='utf8')\n",
    "for line in f:\n",
    "    values = line.split()\n",
    "    word = values[0]\n",
    "    vec = np.asarray(values[1:], dtype='float32')\n",
    "    embeddings_dict[word] = vec\n",
    "f.close()\n",
    "print('Extracted {} word vectors'.format(len(embeddings_dict)))"
   ]
  },
  {
   "source": [
    "### Word2vec vectorizer"
   ],
   "cell_type": "markdown",
   "metadata": {}
  },
  {
   "cell_type": "code",
   "execution_count": 5,
   "metadata": {},
   "outputs": [],
   "source": [
    "## SKLEARN COMPATIBLE GLOVE VECTORIZER TRANSFORMER \n",
    "class w2cVectorizer(object):\n",
    "    def __init__(self, embeddings_dict):\n",
    "        self.embeddings_dict = embeddings_dict\n",
    "        # if a text is empty we should return a vector of zeros\n",
    "        # with the same dimensionality as all the other vectors\n",
    "        # self.dim = len(embeddings_dict[next(iter(embeddings_dict))])\n",
    "\n",
    "    def fit(self, X, y):\n",
    "        return self\n",
    "    \n",
    "    def sentence2vec(self, s):\n",
    "        '''\n",
    "        Input:\n",
    "        Sentence string\n",
    "\n",
    "        Transformations:\n",
    "        Get vector for each word -> Average vectors\n",
    "\n",
    "        Output:\n",
    "        Vector for sentence\n",
    "        '''\n",
    "        words = s.split()\n",
    "        M = []\n",
    "        for w in words:\n",
    "            try:\n",
    "                M.append(self.embeddings_dict[w])\n",
    "            except:\n",
    "                continue\n",
    "        M = np.array(M)\n",
    "        v = M.mean(axis=0)\n",
    "        if type(v) != np.ndarray:\n",
    "            # return np.zeros(self.dim)\n",
    "            return np.zeros(300)\n",
    "        return v # / np.sqrt((v ** 2).sum())\n",
    "\n",
    "    def transform(self, X):\n",
    "        X = X.apply(self.sentence2vec)\n",
    "        return np.stack(X.values, axis=0)"
   ]
  },
  {
   "cell_type": "code",
   "execution_count": 6,
   "metadata": {},
   "outputs": [],
   "source": [
    "w2c = w2cVectorizer(embeddings_dict)\n",
    "X_train = w2c.transform(train['comment_text'])\n",
    "X_valid = w2c.transform(valid['comment_text'])"
   ]
  },
  {
   "source": [
    "### Loop through Logistic Regression, SVM, XGBoost"
   ],
   "cell_type": "markdown",
   "metadata": {}
  },
  {
   "cell_type": "code",
   "execution_count": 7,
   "metadata": {
    "tags": []
   },
   "outputs": [
    {
     "output_type": "stream",
     "name": "stdout",
     "text": "Logistic Regression Results for toxic comments: Accuracy - 0.91; Precision - 0.51; Recall - 0.87; F1 - 0.64\nLogistic Regression Results for severe_toxic comments: Accuracy - 0.95; Precision - 0.17; Recall - 0.90; F1 - 0.28\nLogistic Regression Results for obscene comments: Accuracy - 0.94; Precision - 0.45; Recall - 0.88; F1 - 0.60\nLogistic Regression Results for threat comments: Accuracy - 0.92; Precision - 0.03; Recall - 0.90; F1 - 0.06\nLogistic Regression Results for insult comments: Accuracy - 0.92; Precision - 0.39; Recall - 0.88; F1 - 0.54\nLogistic Regression Results for identity_hate comments: Accuracy - 0.93; Precision - 0.10; Recall - 0.88; F1 - 0.17\nSVM Results for toxic comments: Accuracy - 0.91; Precision - 0.52; Recall - 0.86; F1 - 0.65\nSVM Results for severe_toxic comments: Accuracy - 0.95; Precision - 0.16; Recall - 0.90; F1 - 0.27\nSVM Results for obscene comments: Accuracy - 0.94; Precision - 0.46; Recall - 0.87; F1 - 0.61\nSVM Results for threat comments: Accuracy - 0.95; Precision - 0.05; Recall - 0.82; F1 - 0.09\nSVM Results for insult comments: Accuracy - 0.92; Precision - 0.39; Recall - 0.88; F1 - 0.54\nSVM Results for identity_hate comments: Accuracy - 0.92; Precision - 0.09; Recall - 0.87; F1 - 0.17\nXGBoost Results for toxic comments: Accuracy - 0.94; Precision - 0.67; Recall - 0.76; F1 - 0.71\nXGBoost Results for severe_toxic comments: Accuracy - 0.99; Precision - 0.43; Recall - 0.47; F1 - 0.45\nXGBoost Results for obscene comments: Accuracy - 0.97; Precision - 0.74; Recall - 0.74; F1 - 0.74\nXGBoost Results for threat comments: Accuracy - 1.00; Precision - 0.59; Recall - 0.34; F1 - 0.43\nXGBoost Results for insult comments: Accuracy - 0.96; Precision - 0.64; Recall - 0.69; F1 - 0.66\nXGBoost Results for identity_hate comments: Accuracy - 0.99; Precision - 0.54; Recall - 0.38; F1 - 0.44\n"
    }
   ],
   "source": [
    "## CREATE RESULTS TABLE\n",
    "results = pd.DataFrame(columns=['Label','Accuracy', 'Recall', 'Precision', 'F1', 'Vectorizer', 'model'])\n",
    "\n",
    "## CREATE MODELS\n",
    "models = {\n",
    "    'Logistic Regression': LogisticRegression(solver='saga',class_weight='balanced'),\n",
    "    'SVM': LinearSVC(class_weight='balanced'),\n",
    "    'XGBoost': ['see below']}\n",
    "                      \n",
    "## LOOP THROUGH MODELS\n",
    "for m_label, model in models.items():\n",
    "    for label in labels:\n",
    "        # clone base model (re-initialize weights)\n",
    "        if m_label == 'XGBoost':\n",
    "            model = XGBClassifier(n_estimators=100,\n",
    "                        scale_pos_weight= sum(train[label]==0) / sum(train[label]==1),\n",
    "                        n_jobs=-1)\n",
    "        \n",
    "        m = clone(model) \n",
    "\n",
    "        # Fit model\n",
    "        m.fit(X_train, train[label])\n",
    "        \n",
    "        # Get predictions\n",
    "        preds = m.predict(X_valid)\n",
    "\n",
    "        # Evaluate predictions\n",
    "        acc, prec, recall, f1 = (accuracy_score(valid[label], preds), \n",
    "                                precision_score(valid[label], preds), \n",
    "                                recall_score(valid[label], preds), \n",
    "                                f1_score(valid[label], preds))\n",
    "        \n",
    "        # Save results to dataframe\n",
    "        results = results.append({'Label': label,\n",
    "                                'Accuracy':acc,\n",
    "                                'Recall':recall,\n",
    "                                'Precision':prec,\n",
    "                                'F1':f1,\n",
    "                                'Vectorizer':'word2vec',\n",
    "                                'model': m_label}, \n",
    "                                ignore_index = True)\n",
    "        \n",
    "        # print results\n",
    "        print('{0} Results for {1} comments: Accuracy - {2:.2f}; Precision - {3:.2f}; Recall - {4:.2f}; F1 - {5:.2f}'.format(\n",
    "                                        m_label,\n",
    "                                        label, \n",
    "                                        acc, \n",
    "                                        prec, \n",
    "                                        recall,\n",
    "                                        f1))"
   ]
  },
  {
   "cell_type": "code",
   "execution_count": 8,
   "metadata": {},
   "outputs": [],
   "source": [
    "## SAVE RESULTS\n",
    "results.to_csv('../artifacts/word2vec.csv', index=False)"
   ]
  }
 ]
}