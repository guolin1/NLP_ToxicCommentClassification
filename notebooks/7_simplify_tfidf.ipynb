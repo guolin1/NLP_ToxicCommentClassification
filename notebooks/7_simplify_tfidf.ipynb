{
 "cells": [
  {
   "cell_type": "code",
   "execution_count": 1,
   "metadata": {},
   "outputs": [],
   "source": [
    "## DATA MANIPULATION\n",
    "import numpy as np\n",
    "import pandas as pd\n",
    "import pickle\n",
    "\n",
    "## TF-IDF VECTORIZER\n",
    "from sklearn.feature_extraction.text import TfidfVectorizer\n",
    "\n",
    "## CLASSIFICATION\n",
    "from sklearn.base import clone\n",
    "from sklearn.metrics import accuracy_score, precision_score, recall_score, f1_score\n",
    "from sklearn.pipeline import Pipeline\n",
    "from sklearn.svm import LinearSVC\n",
    "from sklearn.linear_model import LogisticRegression\n",
    "\n",
    "from xgboost import XGBClassifier"
   ]
  },
  {
   "cell_type": "markdown",
   "metadata": {},
   "source": [
    "### Load preprocessed data"
   ]
  },
  {
   "cell_type": "code",
   "execution_count": 2,
   "metadata": {},
   "outputs": [],
   "source": [
    "f = open('../data/preprocessed.pkl','rb')\n",
    "train, valid = pickle.load(f)\n",
    "labels = train.columns[2:]\n",
    "ys_train = train[labels]\n",
    "ys_valid = valid[labels]\n",
    "\n",
    "## COMBINE TOXIC CATEGORIES\n",
    "y_train = ys_train.sum(axis=1)\n",
    "y_valid = ys_valid.sum(axis=1)\n",
    "y_train.loc[y_train>1] = 1\n",
    "y_valid.loc[y_valid>1] = 1"
   ]
  },
  {
   "cell_type": "markdown",
   "metadata": {},
   "source": [
    "### TFIDF"
   ]
  },
  {
   "cell_type": "code",
   "execution_count": 3,
   "metadata": {},
   "outputs": [],
   "source": [
    "tfidf = TfidfVectorizer(ngram_range=(1,2),\n",
    "                        min_df=3, \n",
    "                        max_df=0.9, \n",
    "                        strip_accents='unicode', \n",
    "                        use_idf=1,\n",
    "                        smooth_idf=1, \n",
    "                        sublinear_tf=1)\n",
    "\n",
    "X_train = tfidf.fit_transform(train['comment_text'])      # vectorized train x\n",
    "X_valid = tfidf.transform(valid['comment_text'])          # vectorized valid x"
   ]
  },
  {
   "cell_type": "markdown",
   "metadata": {},
   "source": [
    "### NB-SVM"
   ]
  },
  {
   "cell_type": "code",
   "execution_count": 4,
   "metadata": {
    "tags": []
   },
   "outputs": [
    {
     "name": "stdout",
     "output_type": "stream",
     "text": [
      "Results for Toxic_combined comments: Accuracy - 0.96; Precision - 0.79; Recall - 0.83; F1 - 0.81\n"
     ]
    }
   ],
   "source": [
    "results = pd.DataFrame(columns=['Label','Accuracy', 'Recall', 'Precision', 'F1', 'Vectorizer', 'model'])\n",
    "\n",
    "## NB-SVM MODEL\n",
    "def NB_SVM(x,y):\n",
    "    y = y.values\n",
    "    sum_1 = x[y==1].sum(axis=0)+1           # Feature Sum for Class 1\n",
    "    p_1 = (sum_1) / ((y==1).sum())          # Convert to ratio of feature in class 1 - p(f|1)\n",
    "\n",
    "    sum_0 = x[y==0].sum(axis=0)+1           # Feature Sum for Class 0\n",
    "    p_0 = (sum_0) / ((y==0).sum())          # Convert to ratio of feature in class 0 - p(f|0) \n",
    "\n",
    "    r = np.log(p_1/p_0)                     # Compute log ratios (the transformation matrix)\n",
    "    x_nb = x.multiply(r)                    # Obtain NB feature\n",
    "    \n",
    "    m = LogisticRegression(solver='liblinear',class_weight='balanced')  # Balanced class weights [n_samples / n_classes * np.bincount(y)]\n",
    "    m.fit(x_nb,y)                           # Fit model\n",
    "    return m , r                            # return fitted model & transformation matrix (need for X_valid / X_test)\n",
    "\n",
    "# Get model and transformation matrix for category\n",
    "m,r = NB_SVM(X_train, y_train)\n",
    "# Get predictions\n",
    "preds = m.predict(X_valid.multiply(r))\n",
    "# Evaluate predictions\n",
    "acc, prec, recall, f1 = (accuracy_score(y_valid, preds), \n",
    "                            precision_score(y_valid, preds), \n",
    "                            recall_score(y_valid, preds), \n",
    "                            f1_score(y_valid, preds))\n",
    "\n",
    "results = results.append({'Label': 'Toxic_Combined',\n",
    "                        'Accuracy':acc,\n",
    "                        'Recall':recall,\n",
    "                        'Precision':prec,\n",
    "                        'F1':f1,\n",
    "                        'Vectorizer':'tfidf',\n",
    "                        'model': 'NB_SVM'}, \n",
    "                        ignore_index = True)\n",
    "\n",
    "print('Results for {0} comments: Accuracy - {1:.2f}; Precision - {2:.2f}; Recall - {3:.2f}; F1 - {4:.2f}'.format(\n",
    "                                'Toxic_combined', \n",
    "                                acc, \n",
    "                                prec, \n",
    "                                recall,\n",
    "                                f1))"
   ]
  },
  {
   "cell_type": "code",
   "execution_count": 5,
   "metadata": {},
   "outputs": [],
   "source": [
    "preds_proba = m.predict_proba(X_valid.multiply(r))\n",
    "preds_df = pd.DataFrame(data=preds_proba[:,1],columns=['tfidf_nbsvm'])\n",
    "preds_df.to_csv('../artifacts/simple/preds/tfidf_nbsvm.csv')"
   ]
  },
  {
   "cell_type": "markdown",
   "metadata": {},
   "source": [
    "### Loop through models"
   ]
  },
  {
   "cell_type": "code",
   "execution_count": 5,
   "metadata": {
    "tags": []
   },
   "outputs": [
    {
     "name": "stdout",
     "output_type": "stream",
     "text": [
      "Logistic Regression Results for Toxic_Combined comments: Accuracy - 0.95; Precision - 0.72; Recall - 0.84; F1 - 0.77\n",
      "SVM Results for Toxic_Combined comments: Accuracy - 0.96; Precision - 0.82; Recall - 0.79; F1 - 0.80\n",
      "XGBoost Results for Toxic_Combined comments: Accuracy - 0.94; Precision - 0.66; Recall - 0.82; F1 - 0.73\n"
     ]
    }
   ],
   "source": [
    "## CREATE MODELS\n",
    "models = {\n",
    "    'Logistic Regression': LogisticRegression(solver='saga',class_weight='balanced'),\n",
    "    'SVM': LinearSVC(class_weight='balanced'),\n",
    "    'XGBoost': XGBClassifier(n_estimators=100,\n",
    "                        scale_pos_weight= sum(y_train==0) / sum(y_train==1),\n",
    "                        n_jobs=-1)}\n",
    "                      \n",
    "## LOOP THROUGH MODELS\n",
    "for m_label, model in models.items():\n",
    "        m = clone(model) \n",
    "\n",
    "        # Fit model\n",
    "        m.fit(X_train, y_train)\n",
    "        \n",
    "        # Get predictions\n",
    "        preds = m.predict(X_valid)\n",
    "\n",
    "        # Evaluate predictions\n",
    "        acc, prec, recall, f1 = (accuracy_score(y_valid, preds), \n",
    "                                precision_score(y_valid, preds), \n",
    "                                recall_score(y_valid, preds), \n",
    "                                f1_score(y_valid, preds))\n",
    "        \n",
    "        # Save results to dataframe\n",
    "        results = results.append({'Label': 'Toxic_Combined',\n",
    "                                'Accuracy':acc,\n",
    "                                'Recall':recall,\n",
    "                                'Precision':prec,\n",
    "                                'F1':f1,\n",
    "                                'Vectorizer':'tfidf',\n",
    "                                'model': m_label}, \n",
    "                                ignore_index = True)\n",
    "        \n",
    "        # print results\n",
    "        print('{0} Results for {1} comments: Accuracy - {2:.2f}; Precision - {3:.2f}; Recall - {4:.2f}; F1 - {5:.2f}'.format(\n",
    "                                        m_label,\n",
    "                                        'Toxic_Combined', \n",
    "                                        acc, \n",
    "                                        prec, \n",
    "                                        recall,\n",
    "                                        f1))"
   ]
  },
  {
   "cell_type": "code",
   "execution_count": 6,
   "metadata": {},
   "outputs": [],
   "source": [
    "## SAVE RESULTS\n",
    "results.to_csv('../artifacts/simple/tfidf.csv', index=False)"
   ]
  },
  {
   "cell_type": "code",
   "execution_count": 7,
   "metadata": {},
   "outputs": [
    {
     "data": {
      "text/html": [
       "<div>\n",
       "<style scoped>\n",
       "    .dataframe tbody tr th:only-of-type {\n",
       "        vertical-align: middle;\n",
       "    }\n",
       "\n",
       "    .dataframe tbody tr th {\n",
       "        vertical-align: top;\n",
       "    }\n",
       "\n",
       "    .dataframe thead th {\n",
       "        text-align: right;\n",
       "    }\n",
       "</style>\n",
       "<table border=\"1\" class=\"dataframe\">\n",
       "  <thead>\n",
       "    <tr style=\"text-align: right;\">\n",
       "      <th></th>\n",
       "      <th>Label</th>\n",
       "      <th>Accuracy</th>\n",
       "      <th>Recall</th>\n",
       "      <th>Precision</th>\n",
       "      <th>F1</th>\n",
       "      <th>Vectorizer</th>\n",
       "      <th>model</th>\n",
       "    </tr>\n",
       "  </thead>\n",
       "  <tbody>\n",
       "    <tr>\n",
       "      <th>0</th>\n",
       "      <td>Toxic_Combined</td>\n",
       "      <td>0.962533</td>\n",
       "      <td>0.771497</td>\n",
       "      <td>0.849072</td>\n",
       "      <td>0.808428</td>\n",
       "      <td>tfidf</td>\n",
       "      <td>NB_SVM</td>\n",
       "    </tr>\n",
       "    <tr>\n",
       "      <th>1</th>\n",
       "      <td>Toxic_Combined</td>\n",
       "      <td>0.949562</td>\n",
       "      <td>0.844144</td>\n",
       "      <td>0.715071</td>\n",
       "      <td>0.774265</td>\n",
       "      <td>tfidf</td>\n",
       "      <td>Logistic Regression</td>\n",
       "    </tr>\n",
       "    <tr>\n",
       "      <th>2</th>\n",
       "      <td>Toxic_Combined</td>\n",
       "      <td>0.960577</td>\n",
       "      <td>0.791698</td>\n",
       "      <td>0.817764</td>\n",
       "      <td>0.804520</td>\n",
       "      <td>tfidf</td>\n",
       "      <td>SVM</td>\n",
       "    </tr>\n",
       "    <tr>\n",
       "      <th>3</th>\n",
       "      <td>Toxic_Combined</td>\n",
       "      <td>0.937428</td>\n",
       "      <td>0.821905</td>\n",
       "      <td>0.655193</td>\n",
       "      <td>0.729141</td>\n",
       "      <td>tfidf</td>\n",
       "      <td>XGBoost</td>\n",
       "    </tr>\n",
       "  </tbody>\n",
       "</table>\n",
       "</div>"
      ],
      "text/plain": [
       "            Label  Accuracy    Recall  Precision        F1 Vectorizer  \\\n",
       "0  Toxic_Combined  0.962533  0.771497   0.849072  0.808428      tfidf   \n",
       "1  Toxic_Combined  0.949562  0.844144   0.715071  0.774265      tfidf   \n",
       "2  Toxic_Combined  0.960577  0.791698   0.817764  0.804520      tfidf   \n",
       "3  Toxic_Combined  0.937428  0.821905   0.655193  0.729141      tfidf   \n",
       "\n",
       "                 model  \n",
       "0               NB_SVM  \n",
       "1  Logistic Regression  \n",
       "2                  SVM  \n",
       "3              XGBoost  "
      ]
     },
     "execution_count": 7,
     "metadata": {},
     "output_type": "execute_result"
    }
   ],
   "source": [
    "results"
   ]
  },
  {
   "cell_type": "code",
   "execution_count": null,
   "metadata": {},
   "outputs": [],
   "source": []
  }
 ],
 "metadata": {
  "kernelspec": {
   "display_name": "Python 3",
   "language": "python",
   "name": "python3"
  },
  "language_info": {
   "codemirror_mode": {
    "name": "ipython",
    "version": 3
   },
   "file_extension": ".py",
   "mimetype": "text/x-python",
   "name": "python",
   "nbconvert_exporter": "python",
   "pygments_lexer": "ipython3",
   "version": "3.7.6"
  }
 },
 "nbformat": 4,
 "nbformat_minor": 4
}
