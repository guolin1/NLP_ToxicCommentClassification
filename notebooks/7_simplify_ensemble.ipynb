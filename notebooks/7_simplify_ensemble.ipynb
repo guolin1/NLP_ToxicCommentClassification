{
 "metadata": {
  "language_info": {
   "codemirror_mode": {
    "name": "ipython",
    "version": 3
   },
   "file_extension": ".py",
   "mimetype": "text/x-python",
   "name": "python",
   "nbconvert_exporter": "python",
   "pygments_lexer": "ipython3",
   "version": "3.7.6-final"
  },
  "orig_nbformat": 2,
  "kernelspec": {
   "name": "python_defaultSpec_1600348985275",
   "display_name": "Python 3.7.6 64-bit ('base': conda)"
  }
 },
 "nbformat": 4,
 "nbformat_minor": 2,
 "cells": [
  {
   "cell_type": "code",
   "execution_count": 1,
   "metadata": {},
   "outputs": [],
   "source": [
    "import pandas as pd, numpy as np \n",
    "import pickle\n",
    "from sklearn.metrics import accuracy_score, precision_score, recall_score, f1_score"
   ]
  },
  {
   "cell_type": "code",
   "execution_count": 56,
   "metadata": {},
   "outputs": [],
   "source": [
    "f = open('../data/preprocessed.pkl','rb')\n",
    "train, valid = pickle.load(f)\n",
    "valid = valid.reset_index()\n",
    "labels = train.columns[2:]\n",
    "ys_valid = valid[labels]\n",
    "\n",
    "## COMBINE TOXIC CATEGORIES\n",
    "y_valid = ys_valid.sum(axis=1)\n",
    "y_valid.loc[y_valid>1] = 1"
   ]
  },
  {
   "cell_type": "code",
   "execution_count": 57,
   "metadata": {},
   "outputs": [],
   "source": [
    "## Load SVM, XGBoost, and GRU results\n",
    "NBSVM = pd.read_csv('../artifacts/simple/preds/tfidf_nbsvm.csv')\n",
    "LSTM = pd.read_csv('../artifacts/simple/preds/glove_lstm.csv')"
   ]
  },
  {
   "cell_type": "code",
   "execution_count": 58,
   "metadata": {},
   "outputs": [],
   "source": [
    "preds = (LSTM['glove_gru'] + NBSVM['tfidf_nbsvm'])/2\n",
    "preds[preds<=0.5] = 0\n",
    "preds[preds>0.5] = 1"
   ]
  },
  {
   "cell_type": "code",
   "execution_count": 59,
   "metadata": {
    "tags": []
   },
   "outputs": [
    {
     "output_type": "stream",
     "name": "stdout",
     "text": "Results for Toxic_combined comments: Accuracy - 0.97; Precision - 0.88; Recall - 0.78; F1 - 0.83\n"
    }
   ],
   "source": [
    "# Evaluate predictions\n",
    "results = pd.DataFrame(columns=['Label','Accuracy', 'Recall', 'Precision', 'F1', 'Vectorizer', 'model'])\n",
    "acc, prec, recall, f1 = (accuracy_score(y_valid, preds), \n",
    "                            precision_score(y_valid, preds), \n",
    "                            recall_score(y_valid, preds), \n",
    "                            f1_score(y_valid, preds))\n",
    "\n",
    "results = results.append({'Label': 'Toxic_Combined',\n",
    "                        'Accuracy':acc,\n",
    "                        'Recall':recall,\n",
    "                        'Precision':prec,\n",
    "                        'F1':f1,\n",
    "                        'Vectorizer':'tfidf',\n",
    "                        'model': 'NB_SVM'}, \n",
    "                        ignore_index = True)\n",
    "\n",
    "print('Results for {0} comments: Accuracy - {1:.2f}; Precision - {2:.2f}; Recall - {3:.2f}; F1 - {4:.2f}'.format(\n",
    "                                'Toxic_combined', \n",
    "                                acc, \n",
    "                                prec, \n",
    "                                recall,\n",
    "                                f1))"
   ]
  },
  {
   "source": [
    "### Take a look at top 5 predictions for toxic comments, and top 5 predictions for non-toxic comments"
   ],
   "cell_type": "markdown",
   "metadata": {}
  },
  {
   "cell_type": "code",
   "execution_count": 60,
   "metadata": {},
   "outputs": [],
   "source": [
    "preds = (LSTM['glove_gru'] + NBSVM['tfidf_nbsvm'])/2"
   ]
  },
  {
   "cell_type": "code",
   "execution_count": 94,
   "metadata": {},
   "outputs": [],
   "source": [
    "top_toxic_idx = preds.sort_values(ascending=False)[:5].index.values\n",
    "top_regular_idx = preds.sort_values()[:5].index.values"
   ]
  },
  {
   "cell_type": "code",
   "execution_count": 95,
   "metadata": {
    "tags": []
   },
   "outputs": [
    {
     "output_type": "execute_result",
     "data": {
      "text/plain": "26829    yo fuck you bitch fuck you bitch fuck you bitc...\n30281    eat shit and die bitch ass nigger eat shit and...\n40695    fuck you ass hole go fuck yourself dirty fuck ...\n31212    you a cunt your a fuck ass hole bitch il fuck ...\n50087        burtalbert you fuck suck dick u king ass hole\nName: comment_text, dtype: object"
     },
     "metadata": {},
     "execution_count": 95
    }
   ],
   "source": [
    "valid.loc[top_toxic_idx]['comment_text']"
   ]
  },
  {
   "cell_type": "code",
   "execution_count": 96,
   "metadata": {
    "tags": []
   },
   "outputs": [
    {
     "output_type": "stream",
     "name": "stdout",
     "text": "redirect talk ghar sansar film\nredirect talk unterseeboot\nredirect talk moulay idriss zerhoun\nmay thanks\nredirect talk gj c\n"
    }
   ],
   "source": [
    "for i in valid.loc[top_regular_idx]['comment_text']:\n",
    "    print(i)"
   ]
  },
  {
   "source": [
    "### Take a look at the comments with near uncertain probabilities"
   ],
   "cell_type": "markdown",
   "metadata": {}
  },
  {
   "cell_type": "code",
   "execution_count": 91,
   "metadata": {},
   "outputs": [],
   "source": [
    "uncertain_toxic_idx = preds[(preds>0.45) & (preds<0.55)].sort_values(ascending=False)[:5].index.values\n",
    "uncertain_regular_idx = preds[(preds>0.45) & (preds<0.55)].sort_values()[:5].index.values"
   ]
  },
  {
   "cell_type": "code",
   "execution_count": 92,
   "metadata": {
    "tags": []
   },
   "outputs": [
    {
     "output_type": "stream",
     "name": "stdout",
     "text": "seriously though grow up flooding my user page with hundreds of question marks and saying byes certainly proves that you are an immature child ha ha byes xd\nicbittc tnx re edgar i gave myself one last random page before retiring and it's clear that if i don't prioritize better i'm going to have to promote icbittc as an xtlc for i can't believe i typed that crap grin blush\nthanks for calling me a zombie mind if i eat your brain just because i don't edit much doesn't make me a zombie account talk contrib\nblood will be on your hands too jimbo blood will be on your hands too jimbo\nnba finals and adam morrison you are annoying and ruining other people's fun please stop deleting all the edits on the above pages you are nothing but a buzzkill who is pissing other people off\n"
    }
   ],
   "source": [
    "for i in valid.loc[uncertain_toxic_idx]['comment_text']: print(i)"
   ]
  },
  {
   "cell_type": "code",
   "execution_count": 93,
   "metadata": {
    "tags": []
   },
   "outputs": [
    {
     "output_type": "stream",
     "name": "stdout",
     "text": "don't hide the incriminating photographs you nazi americans if the photos are graphic its because the horrible deeds committed by the deranges sadistic perverted soldiers are also equally disturing i think the yanks should stop trying to cover up these issues\njoppa and regarding your final warnings you seem to think you've got more power than you actually have this is wikipedia sweetheart not the united states you can ban me from this site all you please i was only here to defend i told you during our debate i couldn't give a shit whether or not my site was on here it was the people who created the article i was worried about you've already destroyed that\ndear gracious and benevolent companion from looking back at my little smilely face i can understand why you though it looked like a penis obviously we have different views and i am quite sorry for not keeping a neutral view and telling you that the smiely face is actually a smiely face i hope you understand\nok i concede that relatives may be unnecessary in infoboxes from wikipedia's pov as sad as that makes me but you would do well to stop using air quotes ie where you found your example and phrases such as if you actually read the padme and jabba articles and please read the entire mos after i said i had read it it makes your comments seem uncivil if you wish to call me stupid or ignorant then say so and risk banning don't skirt the issue\nstop stop sock puppetry\n"
    }
   ],
   "source": [
    "for i in valid.loc[uncertain_regular_idx]['comment_text']: print(i)"
   ]
  },
  {
   "cell_type": "code",
   "execution_count": null,
   "metadata": {},
   "outputs": [],
   "source": []
  }
 ]
}